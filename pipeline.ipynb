{
 "cells": [
  {
   "cell_type": "markdown",
   "metadata": {},
   "source": [
    "# FIBERMORPH Pipeline: Section and Curvature Analysis"
   ]
  },
  {
   "cell_type": "markdown",
   "metadata": {},
   "source": [
    "## Overview\n",
    "This notebook provides a detailed analysis of the section and curvature of a hair fiber morphology dataset. The analysis includes the following steps:\n",
    "1. **Load and Preprocess the Data**: Load and prepare the data for analysis.\n",
    "2. **Section Analysis**: Analyze the cross-sectional area and shape of the fibers.\n",
    "3. **Curvature Analysis**: Calculate the curvature of the fibers and visualize the results."
   ]
  },
  {
   "cell_type": "markdown",
   "metadata": {},
   "source": [
    "## 1. Load and Preprocess the Data\n",
    "This package is designed to work with the sectional and longitudinal haircut images, which are stored in grayscale TIF or TIFF format. The images should be organized in a directory structure that allows for easy access and processing. For other formats, such as PNG or JPEG, the images should be converted to TIF or TIFF format before proceeding with the analysis. This package provides a function to convert raw images to TIFF format, which can be used as follows:\n",
    "```python\n",
    "from fibermorph import fibermorph\n",
    "fibermorph.raw2gray('path/to/raw/images', 'path/to/output/directory', 'input_format')\n",
    "```"
   ]
  },
  {
   "cell_type": "markdown",
   "metadata": {},
   "source": [
    "## 2. Section Analysis\n",
    "This section of the analysis focuses on the cross-sectional area and shape of the fibers. The analysis includes the following steps:\n",
    "1. **Load the Sectional Images**: Load the sectional TIFF images from the specified directory.\n",
    "2. **Preprocess the Images**: Apply preprocessing steps such as cropping and binarization to prepare the images for analysis.\n",
    "   1. **Crop the Images**: Crop the images to a specified region of interest (ROI).\n",
    "   2. **Binarize the Images**: Convert the images to binary format using the Chan-Vese algorithm.\n",
    "3. **Calculate the Cross-Sectional Eccentricity**: Calculate the cross-sectional eccentricity of the fibers using the `skimage.measure.regionprops` function.\n",
    "\n",
    "We visualize the sectional analysis in two real examples."
   ]
  },
  {
   "cell_type": "markdown",
   "metadata": {},
   "source": [
    "### 2.1 Load the Sectional Images\n",
    "<p float=\"left\" div style=\"display: flex; gap: 100px;\">\n",
    "  <img src=\"demo/fibermorph_demo/tmpdata/section/140918_demo_section.png\" width=\"350\"/>\n",
    "  <img src=\"demo/fibermorph_demo/tmpdata/section/140918_demo_section2.png\" width=\"350\"/>\n",
    "</p>\n",
    "\n",
    "### 2.2 Preprocess the Images\n",
    "\n",
    "1. **Crop the Images**:\n",
    "<p float=\"left\" div style=\"display: flex; gap: 100px;\">\n",
    "  <img src=\"demo/fibermorph_demo/Mar31_1457_DemoTest_Section/Mar31_1457_fibermorph_section/crop/140918_demo_section.png\" width=\"350\"/>\n",
    "  <img src=\"demo/fibermorph_demo/Mar31_1457_DemoTest_Section/Mar31_1457_fibermorph_section/crop/140918_demo_section2.png\" width=\"350\"/>\n",
    "</p>\n",
    "\n",
    "2. **Binarize the Images**:\n",
    "<p float=\"left\" div style=\"display: flex; gap: 100px;\">\n",
    "  <img src=\"demo/fibermorph_demo/Mar31_1457_DemoTest_Section/Mar31_1457_fibermorph_section/binary/140918_demo_section.png\" width=\"350\"/>\n",
    "  <img src=\"demo/fibermorph_demo/Mar31_1457_DemoTest_Section/Mar31_1457_fibermorph_section/binary/140918_demo_section2.png\" width=\"350\"/>\n",
    "</p>\n",
    "\n",
    "### 2.3 Calculate the Cross-Sectional Eccentricity"
   ]
  },
  {
   "cell_type": "markdown",
   "metadata": {},
   "source": [
    "## 3. Curvature Analysis\n",
    "This section provides a detailed analysis of the curvature of the fibers. The curvature is calculated through the following steps:\n",
    "1. **Load the Fiber Image**: Load the longitudinal fiber TIFF image from the specified directory.\n",
    "2. **Segment the Image**: Segment the image to isolate the fibers from the background. This is done using a series of image processing steps:\n",
    "   1. **Filter the Curves**: Apply a frangi ridge filter to enhance the curves in the image.\n",
    "   2. **Binarize the Image**: Convert the filtered image to a binary image using Otsu's method.\n",
    "   3. **Clean the Image**: Remove small particles under a particular size from the binary image to isolate the fibers.\n",
    "   4. **Skeletonize the Image**: Convert the cleaned binary image to a skeletonized image to represent the fibers as one-pixel-wide lines.\n",
    "   5. **Prune the Skeleton**: Prune the skeletonized image to remove small branches and noise.\n",
    "3. **Calculate the Curvature**: Calculate the curvature of the pruned skeleton using the `skimage.measure` module:\n",
    "   1. **Label the Skeleton**: Label the skeletonized image to identify individual, connected fibers.\n",
    "   2. **Coordinate Extraction**: Extract the coordinates of the labeled fibers.\n",
    "   3. **Split the Coordinates**: Split the coordinates into separate arrays.\n",
    "   4. **Fit a Circle**: Fit a circle to the coordinates of each partition to calculate the curvature.\n",
    "   \n",
    "We visualize the curvature calculation in two real examples. The first example contains curly hair, and the second example contains straight hair. "
   ]
  },
  {
   "cell_type": "markdown",
   "metadata": {},
   "source": [
    "### 3.1. Load the Fiber Image\n",
    "The left image shows multiple curly hair fibers, while the right image shows multiple straight hair fiber.\n",
    "\n",
    "<p float=\"left\" div style=\"display: flex; gap: 100px;\">\n",
    "  <img src=\"demo/fibermorph_demo/tmpdata/curv/004_demo_curv.png\" width=\"350\"/>\n",
    "  <img src=\"demo/fibermorph_demo/tmpdata/curv/027_demo_nocurv.png\" width=\"350\"/>\n",
    "</p>"
   ]
  },
  {
   "cell_type": "markdown",
   "metadata": {},
   "source": [
    "### 3.2. Segment the Image\n",
    "The segmentation process is applied to both images, including filtering, binarization, cleaning, skeletonization, and pruning. The left image shows the segmented curly hair fibers, while the right image shows the segmented straight hair fibers.\n",
    "\n",
    "1. **Filter the Curves**:\n",
    "<p float=\"left\" div style=\"display: flex; gap: 100px;\">\n",
    "  <img src=\"demo/fibermorph_demo/Apr04_1620_DemoTest_Curv/Apr04_1620_fibermorph_curvature/filtered/004_demo_curv.png\" width=\"350\"/>\n",
    "  <img src=\"demo/fibermorph_demo/Apr04_1620_DemoTest_Curv/Apr04_1620_fibermorph_curvature/filtered/027_demo_nocurv.png\" width=\"350\"/>\n",
    "</p>\n",
    "\n",
    "2. **Binarize the Image**:\n",
    "<p float=\"left\" div style=\"display: flex; gap: 100px;\">\n",
    "  <img src=\"demo/fibermorph_demo/Apr04_1620_DemoTest_Curv/Apr04_1620_fibermorph_curvature/binarized/004_demo_curv.png\" width=\"350\"/>\n",
    "  <img src=\"demo/fibermorph_demo/Apr04_1620_DemoTest_Curv/Apr04_1620_fibermorph_curvature/binarized/027_demo_nocurv.png\" width=\"350\"/>\n",
    "</p>\n",
    "\n",
    "3. **Clean the Image**:\n",
    "<p float=\"left\" div style=\"display: flex; gap: 100px;\">\n",
    "  <img src=\"demo/fibermorph_demo/Apr04_1620_DemoTest_Curv/Apr04_1620_fibermorph_curvature/clean/004_demo_curv.png\" width=\"350\"/>\n",
    "  <img src=\"demo/fibermorph_demo/Apr04_1620_DemoTest_Curv/Apr04_1620_fibermorph_curvature/clean/027_demo_nocurv.png\" width=\"350\"/>\n",
    "</p>\n",
    "\n",
    "4. **Skeletonize the Image**:\n",
    "<p float=\"left\" div style=\"display: flex; gap: 100px;\">\n",
    "  <img src=\"demo/fibermorph_demo/Apr04_1620_DemoTest_Curv/Apr04_1620_fibermorph_curvature/skeletonized/004_demo_curv.png\" width=\"350\"/>\n",
    "  <img src=\"demo/fibermorph_demo/Apr04_1620_DemoTest_Curv/Apr04_1620_fibermorph_curvature/skeletonized/027_demo_nocurv.png\" width=\"350\"/>\n",
    "</p>\n",
    "\n",
    "5. **Prune the Skeleton**:\n",
    "<p float=\"left\" div style=\"display: flex; gap: 100px;\">\n",
    "  <img src=\"demo/fibermorph_demo/Apr04_1620_DemoTest_Curv/Apr04_1620_fibermorph_curvature/pruned/004_demo_curv.png\" width=\"350\"/>\n",
    "  <img src=\"demo/fibermorph_demo/Apr04_1620_DemoTest_Curv/Apr04_1620_fibermorph_curvature/pruned/027_demo_nocurv.png\" width=\"350\"/>\n",
    "</p>\n",
    "\n",
    "<span style=\"color:red\">During image segmentation, the fibers in the border may be removed incorrectly; see the bottom-right region of the left image.</span>"
   ]
  },
  {
   "cell_type": "markdown",
   "metadata": {},
   "source": [
    "### 3.3. Calculate the Curvature\n",
    "\n",
    "1. **Label the Skeleton**:\n",
    "   Fibermorph uses the `skimage.measure.label` function to label the skeletonized image. This function assigns a unique label to each connected component in the image. The labeled region is then used to extract the coordinates of a hair fiber. <span style=\"color: red;\">However, the labeling process may yield a single label for multiple fibers, if they are intersecting; see the top-left region of the left image.</span>\n",
    "2. **Coordinate Extraction**:\n",
    "    The coordinates of the labeled regions are extracted using the `skimage.measure.regionprops` function. This function provides properties of the labeled regions, including the coordinates of the pixels in each region.\n",
    "3. **Split the Coordinates**:\n",
    "    The coordinates of the labeled regions are split into separate arrays using a sliding window.\n",
    "4. **Fit a Circle**:\n",
    "    The coordinates of each partition are fitted to a circle using the Taubin's approach. The curvature is then calculated as the inverse of the radius of the fitted circle."
   ]
  }
 ],
 "metadata": {
  "kernelspec": {
   "display_name": "fibermorph_env",
   "language": "python",
   "name": "python3"
  },
  "language_info": {
   "codemirror_mode": {
    "name": "ipython",
    "version": 3
   },
   "file_extension": ".py",
   "mimetype": "text/x-python",
   "name": "python",
   "nbconvert_exporter": "python",
   "pygments_lexer": "ipython3",
   "version": "3.11.11"
  }
 },
 "nbformat": 4,
 "nbformat_minor": 2
}
